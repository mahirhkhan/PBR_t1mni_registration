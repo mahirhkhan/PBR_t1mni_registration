{
 "cells": [
  {
   "cell_type": "code",
   "execution_count": 6,
   "metadata": {},
   "outputs": [
    {
     "name": "stdout",
     "output_type": "stream",
     "text": [
      "Populating the interactive namespace from numpy and matplotlib\n"
     ]
    }
   ],
   "source": [
    "from glob import glob\n",
    "import pandas as pd\n",
    "import numpy as np\n",
    "import csv\n",
    "import os\n",
    "%pylab inline\n",
    "import matplotlib.pyplot as plt\n",
    "from subprocess import check_output\n",
    "from subprocess import Popen, PIPE\n",
    "import shutil\n",
    "from nipype.interfaces import fsl\n",
    "from nipype.interfaces.fsl import RobustFOV, Reorient2Std\n",
    "from nipype.interfaces.c3 import C3dAffineTool\n",
    "import json\n",
    "from pprint import pprint"
   ]
  },
  {
   "cell_type": "code",
   "execution_count": null,
   "metadata": {
    "collapsed": true
   },
   "outputs": [],
   "source": [
    "function to find what TP current mse is (hopefully some master list exists that matches mseid to msid + TP)\n",
    "if TP = 1, do nothing\n",
    "if TP != 1, then:\n",
    "    find TP1’s affine.txt\n",
    "        if none, either run TP1’s alignment, or raise error that TP1 alignment not run yet\n",
    "    convert TP1’s affine.txt and currentTP’s affine.txt to concat.mat (convert_xfm)\n",
    "    T2/lesion mask/other images + concat.mat (in)\n",
    "    T1MNI.nii.gz (ref)\n",
    "    T2/FLAIR/lesion mask/other images in T1_baseline_MNI space"
   ]
  },
  {
   "cell_type": "code",
   "execution_count": 4,
   "metadata": {
    "collapsed": true
   },
   "outputs": [],
   "source": [
    "TP1_base_dir = \"/data/henry7/PBR/subjects/mse1872/alignment/\""
   ]
  },
  {
   "cell_type": "code",
   "execution_count": 15,
   "metadata": {
    "collapsed": true
   },
   "outputs": [],
   "source": [
    "TP2_base_dir = \"/data/henry7/PBR/subjects/mse3644/alignment/\""
   ]
  },
  {
   "cell_type": "code",
   "execution_count": 71,
   "metadata": {},
   "outputs": [
    {
     "name": "stdout",
     "output_type": "stream",
     "text": [
      "/data/henry7/PBR/subjects/mse1872/alignment/ms1060-mse1872-002-AX_T1_3D_IRSPGR.nii.gz /data/henry7/PBR/subjects/mse1872/alignment/ms1060-mse1872-003-FRFSE-001.nii.gz ['/data/henry7/PBR/subjects/mse1872/alignment/ms1060-mse1872-003-FRFSE-000_affine.txt', '/data/henry7/PBR/subjects/mse1872/alignment/ms1060-mse1872-003-FRFSE-001_affine.txt', '/data/henry7/PBR/subjects/mse1872/alignment/ms1060-mse1872-009-AX_T1_affine.txt'] /data/henry7/PBR/subjects/mse1872/alignment/mni_angulated/ms1060-mse1872-002-AX_T1_3D_IRSPGR_trans.nii.gz\n"
     ]
    }
   ],
   "source": [
    "with open(TP1_base_dir + \"/status.json\") as data_file:\n",
    "    data = json.load(data_file)\n",
    "    t1_tp1 = data[\"t1_files\"][-1]\n",
    "    t2_tp1 = data[\"t2_files\"][-1]\n",
    "    #gad_tp1 = data[\"gad_files\"][-1]\n",
    "    #flair_tp1 = data[\"flair_files\"][-1]\n",
    "    affines_tp1 = data[\"affines\"]\n",
    "    T1_BL_MNI = TP1_base_dir +\"mni_angulated/\"+os.path.split(t1_tp1)[-1].replace(\".nii.gz\", \"_trans.nii.gz\")\n",
    "    print(t1, t2, affines_tp1, T1_BL_MNI)"
   ]
  },
  {
   "cell_type": "code",
   "execution_count": 57,
   "metadata": {},
   "outputs": [
    {
     "name": "stdout",
     "output_type": "stream",
     "text": [
      "/data/henry7/PBR/subjects/mse1872/alignment/ms1060-mse1872-002-AX_T1_3D_IRSPGR.nii.gz /data/henry7/PBR/subjects/mse1872/alignment/ms1060-mse1872-003-FRFSE-001.nii.gz ['/data/henry7/PBR/subjects/mse1872/alignment/ms1060-mse1872-003-FRFSE-000_affine.txt', '/data/henry7/PBR/subjects/mse1872/alignment/ms1060-mse1872-003-FRFSE-001_affine.txt', '/data/henry7/PBR/subjects/mse1872/alignment/ms1060-mse1872-009-AX_T1_affine.txt']\n"
     ]
    }
   ],
   "source": [
    "with open(TP2_base_dir + \"/status.json\") as data_file:\n",
    "    data = json.load(data_file)\n",
    "    t1_tp2 = data[\"t1_files\"][-1]\n",
    "    t2_tp2 = data[\"t2_files\"][-1]\n",
    "    affines_tp2 =data[\"affines\"]\n",
    "    print(t1, t2, affines)"
   ]
  },
  {
   "cell_type": "code",
   "execution_count": 58,
   "metadata": {
    "collapsed": true
   },
   "outputs": [],
   "source": [
    "mni_template = \"/data/henry6/PBR/templates/OASIS-30_Atropos_template_in_MNI152.nii.gz\""
   ]
  },
  {
   "cell_type": "markdown",
   "metadata": {},
   "source": [
    "# if TP == 1:"
   ]
  },
  {
   "cell_type": "code",
   "execution_count": 78,
   "metadata": {
    "scrolled": true
   },
   "outputs": [
    {
     "name": "stdout",
     "output_type": "stream",
     "text": [
      "/data/henry7/PBR/subjects/mse1872/alignment/ms1060-mse1872-003-FRFSE-000_affine.txt\n",
      "['c3d_affine_tool', '-itk', '/data/henry7/PBR/subjects/mse1872/alignment/ms1060-mse1872-003-FRFSE-000_affine.txt', '-o', '/data/henry7/PBR/subjects/mse1872/alignment/ms1060-mse1872-003-FRFSE-000_affine.mat']\n",
      "/data/henry7/PBR/subjects/mse1872/alignment/ms1060-mse1872-003-FRFSE-001_affine.txt\n",
      "['c3d_affine_tool', '-itk', '/data/henry7/PBR/subjects/mse1872/alignment/ms1060-mse1872-003-FRFSE-001_affine.txt', '-o', '/data/henry7/PBR/subjects/mse1872/alignment/ms1060-mse1872-003-FRFSE-001_affine.mat']\n",
      "/data/henry7/PBR/subjects/mse1872/alignment/ms1060-mse1872-009-AX_T1_affine.txt\n",
      "['c3d_affine_tool', '-itk', '/data/henry7/PBR/subjects/mse1872/alignment/ms1060-mse1872-009-AX_T1_affine.txt', '-o', '/data/henry7/PBR/subjects/mse1872/alignment/ms1060-mse1872-009-AX_T1_affine.mat']\n"
     ]
    }
   ],
   "source": [
    "#if align exists\n",
    "#convert t1 mni matrix to .mat \n",
    "cmd = [\"c3d_affine_tool\", \"-itk\",TP1_base_dir + \"/mni_angulated/affine.txt\", \"-o\",TP1_base_dir + \"/mni_angulated/affine.mat\"]\n",
    "proc = Popen(cmd, stdout=PIPE)\n",
    "#convert other affines in align folder to .mat \n",
    "for affine in affines:\n",
    "    print(affine)\n",
    "    cmd = [\"c3d_affine_tool\", \"-itk\", affine, \"-o\",affine.split(\".\")[0]+ \".mat\"]\n",
    "    proc = Popen(cmd, stdout=PIPE)\n",
    "    print(cmd)"
   ]
  },
  {
   "cell_type": "code",
   "execution_count": 62,
   "metadata": {
    "collapsed": true
   },
   "outputs": [],
   "source": [
    "#combine affine matrices \n",
    "for affine in affines:\n",
    "    invt = fsl.ConvertXFM()\n",
    "    invt.inputs.in_file = affine.split(\".\")[0]+ \".mat\"\n",
    "    invt.inputs.in_file2 = TP1_base_dir + \"/mni_angulated/affine.mat\"\n",
    "    invt.inputs.concat_xfm = True\n",
    "    invt.inputs.out_file = affine.split(\".\")[0] + \"_mni.mat\"\n",
    "    invt.cmdline\n",
    "    invt.run()"
   ]
  },
  {
   "cell_type": "code",
   "execution_count": 64,
   "metadata": {},
   "outputs": [
    {
     "name": "stdout",
     "output_type": "stream",
     "text": [
      "flirt -in /data/henry7/PBR/subjects/mse1872/alignment/ms1060-mse1872-003-FRFSE-001.nii.gz -ref /data/henry7/PBR/subjects/mse1872/alignment/mni_angulated/ms1060-mse1872-002-AX_T1_3D_IRSPGR_trans.nii.gz -out /data/henry7/PBR/subjects/mse1872/alignment/ms1060-mse1872-003-FRFSE-001_T1mni.nii.gz -omat ms1060-mse1872-003-FRFSE-001_flirt.mat -cost mutualinfo -init /data/henry7/PBR/subjects/mse1872/alignment/ms1060-mse1872-003-FRFSE-001_affine_mni.mat\n"
     ]
    },
    {
     "data": {
      "text/plain": [
       "<nipype.interfaces.base.InterfaceResult at 0x7fd2b9550358>"
      ]
     },
     "execution_count": 64,
     "metadata": {},
     "output_type": "execute_result"
    }
   ],
   "source": [
    "#apply affine matrices... register the T2's \n",
    "flt = fsl.FLIRT()\n",
    "flt.inputs.cost = \"mutualinfo\"\n",
    "flt.inputs.in_file = t2_tp1 \n",
    "flt.inputs.reference = T1_BL_MNI = TP1_base_dir +\"mni_angulated/\" +os.path.split(t1_tp1)[-1].replace(\".nii.gz\", \"_trans.nii.gz\")\n",
    "flt.inputs.output_type = \"NIFTI_GZ\"\n",
    "flt.inputs.in_matrix_file = t2_tp1.replace(\".nii.gz\", \"_affine_mni.mat\")\n",
    "flt.inputs.out_file = t2_tp1.replace(\".nii.gz\", \"_T1mni.nii.gz\")\n",
    "print(flt.cmdline)\n",
    "flt.run() \n",
    "              "
   ]
  },
  {
   "cell_type": "code",
   "execution_count": 72,
   "metadata": {
    "collapsed": true
   },
   "outputs": [],
   "source": [
    "#else --> run pbr align "
   ]
  },
  {
   "cell_type": "markdown",
   "metadata": {},
   "source": [
    "# if TP != 1 "
   ]
  },
  {
   "cell_type": "code",
   "execution_count": 79,
   "metadata": {},
   "outputs": [
    {
     "name": "stdout",
     "output_type": "stream",
     "text": [
      "['c3d_affine_tool', '-itk', '/data/henry7/PBR/subjects/mse3644/alignment/ms1060-mse3644-003-AX_T1_3D_IRSPGR-001_affine.txt', '-o', '/data/henry7/PBR/subjects/mse3644/alignment/ms1060-mse3644-003-AX_T1_3D_IRSPGR-001_affine.mat']\n",
      "['c3d_affine_tool', '-itk', '/data/henry7/PBR/subjects/mse3644/alignment/ms1060-mse3644-005-FRFSE-000_affine.txt', '-o', '/data/henry7/PBR/subjects/mse3644/alignment/ms1060-mse3644-005-FRFSE-000_affine.mat']\n",
      "['c3d_affine_tool', '-itk', '/data/henry7/PBR/subjects/mse3644/alignment/ms1060-mse3644-005-FRFSE-001_affine.txt', '-o', '/data/henry7/PBR/subjects/mse3644/alignment/ms1060-mse3644-005-FRFSE-001_affine.mat']\n",
      "['c3d_affine_tool', '-itk', '/data/henry7/PBR/subjects/mse3644/alignment/ms1060-mse3644-005-FRFSE-002_affine.txt', '-o', '/data/henry7/PBR/subjects/mse3644/alignment/ms1060-mse3644-005-FRFSE-002_affine.mat']\n",
      "['c3d_affine_tool', '-itk', '/data/henry7/PBR/subjects/mse3644/alignment/ms1060-mse3644-005-FRFSE-003_affine.txt', '-o', '/data/henry7/PBR/subjects/mse3644/alignment/ms1060-mse3644-005-FRFSE-003_affine.mat']\n",
      "['c3d_affine_tool', '-itk', '/data/henry7/PBR/subjects/mse3644/alignment/ms1060-mse3644-011-AX_T1_post_gad-000_affine.txt', '-o', '/data/henry7/PBR/subjects/mse3644/alignment/ms1060-mse3644-011-AX_T1_post_gad-000_affine.mat']\n",
      "['c3d_affine_tool', '-itk', '/data/henry7/PBR/subjects/mse3644/alignment/ms1060-mse3644-011-AX_T1_post_gad-001_affine.txt', '-o', '/data/henry7/PBR/subjects/mse3644/alignment/ms1060-mse3644-011-AX_T1_post_gad-001_affine.mat']\n"
     ]
    }
   ],
   "source": [
    "#if align exists\n",
    "#convert all affines in align folder to .mat \n",
    "for affine2 in affines_tp2:\n",
    "    cmd = [\"c3d_affine_tool\", \"-itk\", affine2, \"-o\",affine2.split(\".\")[0]+ \".mat\"]\n",
    "    proc = Popen(cmd, stdout=PIPE)\n",
    "    print(cmd)"
   ]
  },
  {
   "cell_type": "code",
   "execution_count": 80,
   "metadata": {
    "collapsed": true
   },
   "outputs": [],
   "source": [
    "#combine mni t1 affine with the align affines \n",
    "for affine2 in affines_tp2:\n",
    "    invt = fsl.ConvertXFM()\n",
    "    invt.inputs.in_file = affine2.split(\".\")[0]+ \".mat\"\n",
    "    invt.inputs.in_file2 = TP1_base_dir + \"/mni_angulated/affine.mat\"\n",
    "    invt.inputs.concat_xfm = True\n",
    "    invt.inputs.out_file = affine2.split(\".\")[0] + \"_mni.mat\"\n",
    "    invt.cmdline\n",
    "    invt.run()"
   ]
  },
  {
   "cell_type": "code",
   "execution_count": 81,
   "metadata": {},
   "outputs": [
    {
     "name": "stdout",
     "output_type": "stream",
     "text": [
      "flirt -in /data/henry7/PBR/subjects/mse3644/alignment/ms1060-mse3644-003-AX_T1_3D_IRSPGR-001.nii.gz -ref /data/henry7/PBR/subjects/mse1872/alignment/mni_angulated/ms1060-mse1872-002-AX_T1_3D_IRSPGR_trans.nii.gz -out /data/henry7/PBR/subjects/mse3644/alignment/ms1060-mse3644-003-AX_T1_3D_IRSPGR-001_T1mni.nii.gz -omat ms1060-mse3644-003-AX_T1_3D_IRSPGR-001_flirt.mat -cost mutualinfo -init /data/henry7/PBR/subjects/mse3644/alignment/ms1060-mse3644-003-AX_T1_3D_IRSPGR-001_affine_mni.mat\n"
     ]
    },
    {
     "data": {
      "text/plain": [
       "<nipype.interfaces.base.InterfaceResult at 0x7fd2820ea1d0>"
      ]
     },
     "execution_count": 81,
     "metadata": {},
     "output_type": "execute_result"
    }
   ],
   "source": [
    "#apply affine matrices... register the T1's \n",
    "flt = fsl.FLIRT()\n",
    "flt.inputs.cost = \"mutualinfo\"\n",
    "flt.inputs.in_file = t1_tp2\n",
    "flt.inputs.reference = T1_BL_MNI \n",
    "flt.inputs.output_type = \"NIFTI_GZ\"\n",
    "flt.inputs.in_matrix_file = t1_tp2.replace(\".nii.gz\", \"_affine_mni.mat\")\n",
    "flt.inputs.out_file = t1_tp2.replace(\".nii.gz\", \"_T1mni.nii.gz\")\n",
    "print(flt.cmdline)\n",
    "flt.run() "
   ]
  },
  {
   "cell_type": "code",
   "execution_count": 82,
   "metadata": {},
   "outputs": [
    {
     "name": "stdout",
     "output_type": "stream",
     "text": [
      "flirt -in /data/henry7/PBR/subjects/mse3644/alignment/ms1060-mse3644-005-FRFSE-003.nii.gz -ref /data/henry7/PBR/subjects/mse1872/alignment/mni_angulated/ms1060-mse1872-002-AX_T1_3D_IRSPGR_trans.nii.gz -out /data/henry7/PBR/subjects/mse3644/alignment/ms1060-mse3644-005-FRFSE-003_T1mni.nii.gz -omat ms1060-mse3644-005-FRFSE-003_flirt.mat -cost mutualinfo -init /data/henry7/PBR/subjects/mse3644/alignment/ms1060-mse3644-005-FRFSE-003_affine_mni.mat\n"
     ]
    },
    {
     "data": {
      "text/plain": [
       "<nipype.interfaces.base.InterfaceResult at 0x7fd2820d6518>"
      ]
     },
     "execution_count": 82,
     "metadata": {},
     "output_type": "execute_result"
    }
   ],
   "source": [
    "#apply affine matrices... register the T2's \n",
    "flt = fsl.FLIRT()\n",
    "flt.inputs.cost = \"mutualinfo\"\n",
    "flt.inputs.in_file = t2_tp2\n",
    "flt.inputs.reference = T1_BL_MNI \n",
    "flt.inputs.output_type = \"NIFTI_GZ\"\n",
    "flt.inputs.in_matrix_file = t2_tp2.replace(\".nii.gz\", \"_affine_mni.mat\")\n",
    "flt.inputs.out_file = t2_tp2.replace(\".nii.gz\", \"_T1mni.nii.gz\")\n",
    "print(flt.cmdline)\n",
    "flt.run()"
   ]
  },
  {
   "cell_type": "code",
   "execution_count": null,
   "metadata": {
    "collapsed": true
   },
   "outputs": [],
   "source": []
  }
 ],
 "metadata": {
  "kernelspec": {
   "display_name": "Python 3",
   "language": "python",
   "name": "python3"
  },
  "language_info": {
   "codemirror_mode": {
    "name": "ipython",
    "version": 3
   },
   "file_extension": ".py",
   "mimetype": "text/x-python",
   "name": "python",
   "nbconvert_exporter": "python",
   "pygments_lexer": "ipython3",
   "version": "3.5.2"
  }
 },
 "nbformat": 4,
 "nbformat_minor": 2
}
