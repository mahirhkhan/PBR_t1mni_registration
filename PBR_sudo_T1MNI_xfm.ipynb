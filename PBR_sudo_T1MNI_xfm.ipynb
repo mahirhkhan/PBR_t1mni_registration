{
 "cells": [
  {
   "cell_type": "code",
   "execution_count": 25,
   "metadata": {},
   "outputs": [
    {
     "name": "stdout",
     "output_type": "stream",
     "text": [
      "mni_angulated folder for mse1333 exists\n",
      "mse1328 1\n",
      "mse1333 5\n"
     ]
    }
   ],
   "source": [
    "import os\n",
    "from subprocess import Popen, run, PIPE\n",
    "\n",
    "def run_pbr_mni_angulated(mseid):\n",
    "    cmd = ['pbr', mseid, '-w', 'alignment', '-R']\n",
    "    print (cmd)\n",
    "    #proc = Popen(cmd)\n",
    "    #proc.wait()\n",
    "\n",
    "def check_mni_angulated_folder(mseid):\n",
    "    filepath = '/data/henry7/PBR/subjects/{0}/alignment/mni_angulated'.format(mseid)\n",
    "    if os.path.exists(filepath):\n",
    "        print (\"mni_angulated folder for {0} exists\".format(mseid))\n",
    "    else:\n",
    "        print (\"mni_angulated folder for {0} does not exist\".format(mseid))\n",
    "        run_pbr_mni_angulated(mseid)\n",
    "        filepath = \"\"\n",
    "    return filepath\n",
    "\n",
    "def get_msid(filepath):\n",
    "    from glob import glob\n",
    "    if filepath == '':\n",
    "        return 1\n",
    "    else:\n",
    "        files = glob(\"{0}/ms*\".format(filepath))\n",
    "        msid = files[0].split('/')[-1].split('-')[0]\n",
    "        mseid = files[0].split('/')[-1].split('-')[1]\n",
    "        return msid, mseid\n",
    "\n",
    "def get_tps(msid,mseid):\n",
    "    filepath = os.path.join('/data/henry6/mindcontrol_ucsf_env/watchlists/long/VEO/EPIC_ms/{0}.txt'.format(msid))\n",
    "    if os.path.exists(filepath):\n",
    "        with open(filepath,'r') as f:\n",
    "            timepoints_temp = f.readlines()\n",
    "            timepoints = []\n",
    "            for timepoint in timepoints_temp:\n",
    "                timepoints.append(timepoint.replace('\\n',''))\n",
    "            mse_bl, tp_bl = timepoints[0], 1\n",
    "            mse_cur, tp_cur = mseid, timepoints.index(mseid)\n",
    "            \n",
    "            print (mse_bl, tp_bl)\n",
    "            print (mse_cur, tp_cur)\n",
    "    \n",
    "msid, mseid = get_msid(check_mni_angulated_folder(\"mse1333\"))\n",
    "get_tps(msid,mseid)"
   ]
  }
 ],
 "metadata": {
  "kernelspec": {
   "display_name": "Python 3",
   "language": "python",
   "name": "python3"
  },
  "language_info": {
   "codemirror_mode": {
    "name": "ipython",
    "version": 3
   },
   "file_extension": ".py",
   "mimetype": "text/x-python",
   "name": "python",
   "nbconvert_exporter": "python",
   "pygments_lexer": "ipython3",
   "version": "3.6.1"
  }
 },
 "nbformat": 4,
 "nbformat_minor": 2
}
