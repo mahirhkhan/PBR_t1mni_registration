{
 "cells": [
  {
   "cell_type": "code",
   "execution_count": 73,
   "metadata": {},
   "outputs": [
    {
     "name": "stdout",
     "output_type": "stream",
     "text": [
      "Populating the interactive namespace from numpy and matplotlib\n"
     ]
    }
   ],
   "source": [
    "from glob import glob\n",
    "import pandas as pd\n",
    "import numpy as np\n",
    "import csv\n",
    "import os\n",
    "%pylab inline\n",
    "import matplotlib.pyplot as plt\n",
    "from subprocess import check_output\n",
    "from subprocess import Popen, PIPE\n",
    "import shutil\n",
    "from nipype.interfaces import fsl\n",
    "from nipype.interfaces.fsl import RobustFOV, Reorient2Std"
   ]
  },
  {
   "cell_type": "code",
   "execution_count": 2,
   "metadata": {
    "collapsed": true
   },
   "outputs": [],
   "source": [
    "base_file = \"/data/henry6/mindcontrol_ucsf_env/watchlists/long/VEO/antje_cohort/\""
   ]
  },
  {
   "cell_type": "code",
   "execution_count": 7,
   "metadata": {
    "collapsed": true
   },
   "outputs": [],
   "source": [
    "msid = \"ms1049.txt\"\n",
    "msid_file = base_file + msid "
   ]
  },
  {
   "cell_type": "code",
   "execution_count": 25,
   "metadata": {},
   "outputs": [
    {
     "ename": "IndexError",
     "evalue": "list index out of range",
     "output_type": "error",
     "traceback": [
      "\u001b[0;31m---------------------------------------------------------------------------\u001b[0m",
      "\u001b[0;31mIndexError\u001b[0m                                Traceback (most recent call last)",
      "\u001b[0;32m<ipython-input-25-da940073c5aa>\u001b[0m in \u001b[0;36m<module>\u001b[0;34m()\u001b[0m\n\u001b[1;32m      1\u001b[0m \u001b[0;34m\u001b[0m\u001b[0m\n\u001b[0;32m----> 2\u001b[0;31m \u001b[0mline\u001b[0m \u001b[0;34m=\u001b[0m \u001b[0mopen\u001b[0m\u001b[0;34m(\u001b[0m\u001b[0mmsid\u001b[0m\u001b[0;34m,\u001b[0m \u001b[0;34m\"r\"\u001b[0m\u001b[0;34m)\u001b[0m\u001b[0;34m.\u001b[0m\u001b[0mreadlines\u001b[0m\u001b[0;34m(\u001b[0m\u001b[0;34m)\u001b[0m\u001b[0;34m[\u001b[0m\u001b[0;36m1\u001b[0m\u001b[0;34m]\u001b[0m\u001b[0;34m\u001b[0m\u001b[0m\n\u001b[0m",
      "\u001b[0;31mIndexError\u001b[0m: list index out of range"
     ]
    }
   ],
   "source": [
    "\n",
    "line = open(msid, \"r\").readlines()[1]"
   ]
  },
  {
   "cell_type": "code",
   "execution_count": 82,
   "metadata": {},
   "outputs": [
    {
     "ename": "FileNotFoundError",
     "evalue": "File b'/data/henry6/mindcontrol_ucsf_env/watchlists/long/VEO/antje_cohort/m.txt' does not exist",
     "output_type": "error",
     "traceback": [
      "\u001b[0;31m---------------------------------------------------------------------------\u001b[0m",
      "\u001b[0;31mFileNotFoundError\u001b[0m                         Traceback (most recent call last)",
      "\u001b[0;32m<ipython-input-82-0558e47e95ae>\u001b[0m in \u001b[0;36m<module>\u001b[0;34m()\u001b[0m\n\u001b[1;32m      2\u001b[0m     \u001b[0mtext_file\u001b[0m \u001b[0;34m=\u001b[0m \u001b[0;34m'/data/henry6/mindcontrol_ucsf_env/watchlists/long/VEO/antje_cohort/{}.txt'\u001b[0m\u001b[0;34m.\u001b[0m\u001b[0mformat\u001b[0m\u001b[0;34m(\u001b[0m\u001b[0mms\u001b[0m\u001b[0;34m)\u001b[0m\u001b[0;34m\u001b[0m\u001b[0m\n\u001b[1;32m      3\u001b[0m     fread = pd.read_table(text_file,\n\u001b[0;32m----> 4\u001b[0;31m                                  header=None)\n\u001b[0m\u001b[1;32m      5\u001b[0m     \u001b[0mf_reversed\u001b[0m \u001b[0;34m=\u001b[0m \u001b[0mfread\u001b[0m\u001b[0;34m.\u001b[0m\u001b[0miloc\u001b[0m\u001b[0;34m[\u001b[0m\u001b[0;34m:\u001b[0m\u001b[0;34m:\u001b[0m\u001b[0;34m-\u001b[0m\u001b[0;36m1\u001b[0m\u001b[0;34m]\u001b[0m\u001b[0;34m\u001b[0m\u001b[0m\n\u001b[1;32m      6\u001b[0m     \u001b[0mmse_reversed\u001b[0m \u001b[0;34m=\u001b[0m \u001b[0mlist\u001b[0m\u001b[0;34m(\u001b[0m\u001b[0mf_reversed\u001b[0m\u001b[0;34m[\u001b[0m\u001b[0;36m0\u001b[0m\u001b[0;34m]\u001b[0m\u001b[0;34m)\u001b[0m\u001b[0;34m\u001b[0m\u001b[0m\n",
      "\u001b[0;32m~/ginas_anaconda3.6/new/envs/gk3/lib/python3.5/site-packages/pandas/io/parsers.py\u001b[0m in \u001b[0;36mparser_f\u001b[0;34m(filepath_or_buffer, sep, delimiter, header, names, index_col, usecols, squeeze, prefix, mangle_dupe_cols, dtype, engine, converters, true_values, false_values, skipinitialspace, skiprows, nrows, na_values, keep_default_na, na_filter, verbose, skip_blank_lines, parse_dates, infer_datetime_format, keep_date_col, date_parser, dayfirst, iterator, chunksize, compression, thousands, decimal, lineterminator, quotechar, quoting, escapechar, comment, encoding, dialect, tupleize_cols, error_bad_lines, warn_bad_lines, skipfooter, skip_footer, doublequote, delim_whitespace, as_recarray, compact_ints, use_unsigned, low_memory, buffer_lines, memory_map, float_precision)\u001b[0m\n\u001b[1;32m    653\u001b[0m                     skip_blank_lines=skip_blank_lines)\n\u001b[1;32m    654\u001b[0m \u001b[0;34m\u001b[0m\u001b[0m\n\u001b[0;32m--> 655\u001b[0;31m         \u001b[0;32mreturn\u001b[0m \u001b[0m_read\u001b[0m\u001b[0;34m(\u001b[0m\u001b[0mfilepath_or_buffer\u001b[0m\u001b[0;34m,\u001b[0m \u001b[0mkwds\u001b[0m\u001b[0;34m)\u001b[0m\u001b[0;34m\u001b[0m\u001b[0m\n\u001b[0m\u001b[1;32m    656\u001b[0m \u001b[0;34m\u001b[0m\u001b[0m\n\u001b[1;32m    657\u001b[0m     \u001b[0mparser_f\u001b[0m\u001b[0;34m.\u001b[0m\u001b[0m__name__\u001b[0m \u001b[0;34m=\u001b[0m \u001b[0mname\u001b[0m\u001b[0;34m\u001b[0m\u001b[0m\n",
      "\u001b[0;32m~/ginas_anaconda3.6/new/envs/gk3/lib/python3.5/site-packages/pandas/io/parsers.py\u001b[0m in \u001b[0;36m_read\u001b[0;34m(filepath_or_buffer, kwds)\u001b[0m\n\u001b[1;32m    403\u001b[0m \u001b[0;34m\u001b[0m\u001b[0m\n\u001b[1;32m    404\u001b[0m     \u001b[0;31m# Create the parser.\u001b[0m\u001b[0;34m\u001b[0m\u001b[0;34m\u001b[0m\u001b[0m\n\u001b[0;32m--> 405\u001b[0;31m     \u001b[0mparser\u001b[0m \u001b[0;34m=\u001b[0m \u001b[0mTextFileReader\u001b[0m\u001b[0;34m(\u001b[0m\u001b[0mfilepath_or_buffer\u001b[0m\u001b[0;34m,\u001b[0m \u001b[0;34m**\u001b[0m\u001b[0mkwds\u001b[0m\u001b[0;34m)\u001b[0m\u001b[0;34m\u001b[0m\u001b[0m\n\u001b[0m\u001b[1;32m    406\u001b[0m \u001b[0;34m\u001b[0m\u001b[0m\n\u001b[1;32m    407\u001b[0m     \u001b[0;32mif\u001b[0m \u001b[0mchunksize\u001b[0m \u001b[0;32mor\u001b[0m \u001b[0miterator\u001b[0m\u001b[0;34m:\u001b[0m\u001b[0;34m\u001b[0m\u001b[0m\n",
      "\u001b[0;32m~/ginas_anaconda3.6/new/envs/gk3/lib/python3.5/site-packages/pandas/io/parsers.py\u001b[0m in \u001b[0;36m__init__\u001b[0;34m(self, f, engine, **kwds)\u001b[0m\n\u001b[1;32m    760\u001b[0m             \u001b[0mself\u001b[0m\u001b[0;34m.\u001b[0m\u001b[0moptions\u001b[0m\u001b[0;34m[\u001b[0m\u001b[0;34m'has_index_names'\u001b[0m\u001b[0;34m]\u001b[0m \u001b[0;34m=\u001b[0m \u001b[0mkwds\u001b[0m\u001b[0;34m[\u001b[0m\u001b[0;34m'has_index_names'\u001b[0m\u001b[0;34m]\u001b[0m\u001b[0;34m\u001b[0m\u001b[0m\n\u001b[1;32m    761\u001b[0m \u001b[0;34m\u001b[0m\u001b[0m\n\u001b[0;32m--> 762\u001b[0;31m         \u001b[0mself\u001b[0m\u001b[0;34m.\u001b[0m\u001b[0m_make_engine\u001b[0m\u001b[0;34m(\u001b[0m\u001b[0mself\u001b[0m\u001b[0;34m.\u001b[0m\u001b[0mengine\u001b[0m\u001b[0;34m)\u001b[0m\u001b[0;34m\u001b[0m\u001b[0m\n\u001b[0m\u001b[1;32m    763\u001b[0m \u001b[0;34m\u001b[0m\u001b[0m\n\u001b[1;32m    764\u001b[0m     \u001b[0;32mdef\u001b[0m \u001b[0mclose\u001b[0m\u001b[0;34m(\u001b[0m\u001b[0mself\u001b[0m\u001b[0;34m)\u001b[0m\u001b[0;34m:\u001b[0m\u001b[0;34m\u001b[0m\u001b[0m\n",
      "\u001b[0;32m~/ginas_anaconda3.6/new/envs/gk3/lib/python3.5/site-packages/pandas/io/parsers.py\u001b[0m in \u001b[0;36m_make_engine\u001b[0;34m(self, engine)\u001b[0m\n\u001b[1;32m    964\u001b[0m     \u001b[0;32mdef\u001b[0m \u001b[0m_make_engine\u001b[0m\u001b[0;34m(\u001b[0m\u001b[0mself\u001b[0m\u001b[0;34m,\u001b[0m \u001b[0mengine\u001b[0m\u001b[0;34m=\u001b[0m\u001b[0;34m'c'\u001b[0m\u001b[0;34m)\u001b[0m\u001b[0;34m:\u001b[0m\u001b[0;34m\u001b[0m\u001b[0m\n\u001b[1;32m    965\u001b[0m         \u001b[0;32mif\u001b[0m \u001b[0mengine\u001b[0m \u001b[0;34m==\u001b[0m \u001b[0;34m'c'\u001b[0m\u001b[0;34m:\u001b[0m\u001b[0;34m\u001b[0m\u001b[0m\n\u001b[0;32m--> 966\u001b[0;31m             \u001b[0mself\u001b[0m\u001b[0;34m.\u001b[0m\u001b[0m_engine\u001b[0m \u001b[0;34m=\u001b[0m \u001b[0mCParserWrapper\u001b[0m\u001b[0;34m(\u001b[0m\u001b[0mself\u001b[0m\u001b[0;34m.\u001b[0m\u001b[0mf\u001b[0m\u001b[0;34m,\u001b[0m \u001b[0;34m**\u001b[0m\u001b[0mself\u001b[0m\u001b[0;34m.\u001b[0m\u001b[0moptions\u001b[0m\u001b[0;34m)\u001b[0m\u001b[0;34m\u001b[0m\u001b[0m\n\u001b[0m\u001b[1;32m    967\u001b[0m         \u001b[0;32melse\u001b[0m\u001b[0;34m:\u001b[0m\u001b[0;34m\u001b[0m\u001b[0m\n\u001b[1;32m    968\u001b[0m             \u001b[0;32mif\u001b[0m \u001b[0mengine\u001b[0m \u001b[0;34m==\u001b[0m \u001b[0;34m'python'\u001b[0m\u001b[0;34m:\u001b[0m\u001b[0;34m\u001b[0m\u001b[0m\n",
      "\u001b[0;32m~/ginas_anaconda3.6/new/envs/gk3/lib/python3.5/site-packages/pandas/io/parsers.py\u001b[0m in \u001b[0;36m__init__\u001b[0;34m(self, src, **kwds)\u001b[0m\n\u001b[1;32m   1580\u001b[0m         \u001b[0mkwds\u001b[0m\u001b[0;34m[\u001b[0m\u001b[0;34m'allow_leading_cols'\u001b[0m\u001b[0;34m]\u001b[0m \u001b[0;34m=\u001b[0m \u001b[0mself\u001b[0m\u001b[0;34m.\u001b[0m\u001b[0mindex_col\u001b[0m \u001b[0;32mis\u001b[0m \u001b[0;32mnot\u001b[0m \u001b[0;32mFalse\u001b[0m\u001b[0;34m\u001b[0m\u001b[0m\n\u001b[1;32m   1581\u001b[0m \u001b[0;34m\u001b[0m\u001b[0m\n\u001b[0;32m-> 1582\u001b[0;31m         \u001b[0mself\u001b[0m\u001b[0;34m.\u001b[0m\u001b[0m_reader\u001b[0m \u001b[0;34m=\u001b[0m \u001b[0mparsers\u001b[0m\u001b[0;34m.\u001b[0m\u001b[0mTextReader\u001b[0m\u001b[0;34m(\u001b[0m\u001b[0msrc\u001b[0m\u001b[0;34m,\u001b[0m \u001b[0;34m**\u001b[0m\u001b[0mkwds\u001b[0m\u001b[0;34m)\u001b[0m\u001b[0;34m\u001b[0m\u001b[0m\n\u001b[0m\u001b[1;32m   1583\u001b[0m \u001b[0;34m\u001b[0m\u001b[0m\n\u001b[1;32m   1584\u001b[0m         \u001b[0;31m# XXX\u001b[0m\u001b[0;34m\u001b[0m\u001b[0;34m\u001b[0m\u001b[0m\n",
      "\u001b[0;32mpandas/_libs/parsers.pyx\u001b[0m in \u001b[0;36mpandas._libs.parsers.TextReader.__cinit__ (pandas/_libs/parsers.c:4209)\u001b[0;34m()\u001b[0m\n",
      "\u001b[0;32mpandas/_libs/parsers.pyx\u001b[0m in \u001b[0;36mpandas._libs.parsers.TextReader._setup_parser_source (pandas/_libs/parsers.c:8873)\u001b[0;34m()\u001b[0m\n",
      "\u001b[0;31mFileNotFoundError\u001b[0m: File b'/data/henry6/mindcontrol_ucsf_env/watchlists/long/VEO/antje_cohort/m.txt' does not exist"
     ]
    }
   ],
   "source": [
    "for ms in msid:\n",
    "    text_file = '/data/henry6/mindcontrol_ucsf_env/watchlists/long/VEO/antje_cohort/{}.txt'.format(ms)\n",
    "    fread = pd.read_table(text_file,\n",
    "                                 header=None)\n",
    "    f_reversed = fread.iloc[::-1]\n",
    "    mse_reversed = list(f_reversed[0])\n",
    "    print(\"mse list is:\", mse_reversed)"
   ]
  },
  {
   "cell_type": "code",
   "execution_count": null,
   "metadata": {
    "collapsed": true
   },
   "outputs": [],
   "source": [
    "for ms in msid:\n",
    "    text_file = '/data/henry6/mindcontrol_ucsf_env/watchlists/long/VEO/antje_cohort/{}.txt'.format(ms)\n",
    "    fread = pd.read_table(text_file,\n",
    "                                 header=None)\n",
    "    f_reversed = fread.iloc[::-1]\n",
    "    mse_reversed = list(f_reversed[0])\n",
    "        print(\"mse list is:\", mse_reversed)\n",
    "        for mse_idx, mse in enumerate(mse_reversed):\n",
    "            lst_edit_check = glob(os.path.join(outdir, mse, 'mindcontrol', '*FLAIR*',\n",
    "                                               'lst', 'lst_edits', 'no_FP_filled_FN_dr2*'))\n",
    "            if len(lst_edit_check) == 1:\n",
    "                lesion_edit = ''.join(lst_edit_check)\n",
    "                break\n",
    "            elif len(lst_edit_check) > 1:\n",
    "                raise ValueError(\"lst_edits files have more than one inputs, please check PBROUT directory\",\n",
    "                                 os.path.split(lst_edit_check[0]))\n",
    "\n",
    "        try:\n",
    "            print(\"The path of lsf lesion folder is:\", lesion_edit)\n",
    "            print(\"The lesion lst mse is:\", mse)\n",
    "        except NameError:\n",
    "            print(\"The edited FLAIR lesion is not found in any timepoints, please check the corresponding directory.\")\n",
    "        mse_tp1, mse_tp2 = get_mseid(ms, mse_reversed, mse)\n",
    "        print(\"mse_tp1 and mse_tp2 are:\", mse_tp1, mse_tp2)\n",
    "        if mse_tp1 is not '' and mse_tp2 is not '':\n",
    "            if mse_tp1 == mse:\n",
    "                check_after_edit_lesion(mse_tp1, mse_tp2, outdir, 5050, entry_types=[\"lst\"])\n",
    "                run_pbr_apply_transform(mse_tp2)\n",
    "                check_before_mc_up(mse_tp2, outdir, 5050, entry_types=[\"lst\"], lesion_mse=mse) #\n",
    "                mc_up(mse_tp2)\n",
    "                print(\"Done!\")\n",
    "            else:\n",
    "                edit_lst(mse_tp1)\n",
    "                check_after_edit_lesion(mse_tp1, mse_tp2, outdir, 5050, entry_types=[\"transform\"])\n",
    "                run_pbr_apply_transform(mse_tp2)\n",
    "                check_before_mc_up(mse_tp2, outdir, 5050, entry_types=[\"transform\"], lesion_mse=mse) #\n",
    "                mc_up(mse_tp2)\n",
    "                print(\"Done!\")\n",
    "        else:\n",
    "            print(\"Either mse_tp1 or mse_tp2 is empty, or both of them are empty:\", mse_tp1, mse_tp2)"
   ]
  },
  {
   "cell_type": "code",
   "execution_count": 50,
   "metadata": {},
   "outputs": [
    {
     "name": "stdout",
     "output_type": "stream",
     "text": [
      "mse1827\n",
      "\n",
      "8\n"
     ]
    }
   ],
   "source": [
    "with open(msid_file, \"r\") as f:\n",
    "    tp1 = str(f.readlines()[0])\n",
    "    print(tp1)\n",
    "    if os.path.exists(\"/data/henry7/PBR/subjects/\"+ tp1):\n",
    "        print(tp1)\n",
    "    with open(msid_file, \"r\") as foo:\n",
    "        x = len(foo.readlines())\n",
    "        print(x)\n",
    "    \n",
    "    #for nifti in os.listdir():\n",
    "    \n",
    "    \n",
    "    \n",
    "    "
   ]
  },
  {
   "cell_type": "code",
   "execution_count": 76,
   "metadata": {
    "collapsed": true
   },
   "outputs": [],
   "source": [
    "TP1_base_dir = \"/data/henry7/PBR/subjects/mse1827/nii/\"\n",
    "t1_TP1 = TP1_base_dir + \"ms1049-mse1827-002-AX_T1_3D_IRSPGR.nii.gz\"\n",
    "t2_TP1 = TP1_base_dir + \"ms1049-mse1827-003-FRFSE-001.nii.gz\"\n",
    "\n",
    "TP2_base_dir = \"/data/henry7/PBR/subjects/mse1828/nii/\"\n",
    "t1_TP2 = TP2_base_dir+ \"ms1049-mse1828-003-AX_T1_3D_IRSPGR.nii.gz\"\n",
    "t2_TP2 = TP2_base_dir+ \"ms1049-mse1828-005-FRFSE-001.nii.gz\"\n",
    "\n",
    "mni_template = \"/data/pelletier1/PDPD2/diffusion/standard/MNI152_T1_1mm.nii.gz\"\n"
   ]
  },
  {
   "cell_type": "code",
   "execution_count": 75,
   "metadata": {},
   "outputs": [],
   "source": [
    "reorient = Reorient2Std()\n",
    "reorient.inputs.in_file = t1_TP1\n",
    "reorient.inputs.out_file = TP1_base_dir + \"t1_MNI_aligned.nii.gz\"\n",
    "res = reorient.run() "
   ]
  },
  {
   "cell_type": "code",
   "execution_count": 77,
   "metadata": {},
   "outputs": [
    {
     "name": "stdout",
     "output_type": "stream",
     "text": [
      "flirt -in /data/henry7/PBR/subjects/mse1827/nii/ms1049-mse1827-002-AX_T1_3D_IRSPGR.nii.gz -ref /data/pelletier1/PDPD2/diffusion/standard/MNI152_T1_1mm.nii.gz -out /data/henry7/PBR/subjects/mse1827/nii/t1_TP1_MNI.nii.gz -omat /data/henry7/PBR/subjects/mse1827/nii/t1_TP1_MNI.mat -dof 12\n"
     ]
    },
    {
     "data": {
      "text/plain": [
       "<nipype.interfaces.base.InterfaceResult at 0x7f2832b5d7f0>"
      ]
     },
     "execution_count": 77,
     "metadata": {},
     "output_type": "execute_result"
    }
   ],
   "source": [
    "#register t1_TP1 to MNI space - Done! \n",
    "flt = fsl.FLIRT()\n",
    "flt.inputs.dof = 12\n",
    "flt.inputs.in_file = t1_TP1\n",
    "flt.inputs.reference = mni_template\n",
    "flt.inputs.output_type = \"NIFTI_GZ\"\n",
    "flt.inputs.out_matrix_file = TP1_base_dir+\"t1_TP1_MNI.mat\"\n",
    "flt.inputs.out_file = TP1_base_dir+\"t1_TP1_MNI.nii.gz\"\n",
    "print(flt.cmdline)\n",
    "flt.run() "
   ]
  },
  {
   "cell_type": "code",
   "execution_count": 79,
   "metadata": {},
   "outputs": [
    {
     "name": "stdout",
     "output_type": "stream",
     "text": [
      "flirt -in /data/henry7/PBR/subjects/mse1827/nii/ms1049-mse1827-003-FRFSE-001.nii.gz -ref /data/henry7/PBR/subjects/mse1827/nii/t1_TP1_MNI.nii.gz -out /data/henry7/PBR/subjects/mse1827/nii/t2_TP1_t1MNI.nii.gz -omat /data/henry7/PBR/subjects/mse1827/nii/t2_TP1_t1MNI.mat -dof 6\n"
     ]
    },
    {
     "data": {
      "text/plain": [
       "<nipype.interfaces.base.InterfaceResult at 0x7f28352202e8>"
      ]
     },
     "execution_count": 79,
     "metadata": {},
     "output_type": "execute_result"
    }
   ],
   "source": [
    "#register t2_TP1 to T1 tp1 MNI space \n",
    "flt = fsl.FLIRT()\n",
    "flt.inputs.dof = 6\n",
    "flt.inputs.in_file = t2_TP1\n",
    "flt.inputs.reference = TP1_base_dir + \"t1_TP1_MNI.nii.gz\"\n",
    "flt.inputs.output_type = \"NIFTI_GZ\"\n",
    "flt.inputs.out_matrix_file = TP1_base_dir+\"t2_TP1_t1MNI.mat\"\n",
    "#flt.inputs.out_file = TP1_base_dir+\"t2_TP1_t1MNI.nii.gz\"\n",
    "print(flt.cmdline)\n",
    "flt.run() "
   ]
  },
  {
   "cell_type": "code",
   "execution_count": 80,
   "metadata": {},
   "outputs": [
    {
     "data": {
      "text/plain": [
       "<nipype.interfaces.base.InterfaceResult at 0x7f2832a9ee80>"
      ]
     },
     "execution_count": 80,
     "metadata": {},
     "output_type": "execute_result"
    }
   ],
   "source": [
    "# convert xfm - combine the two .mat files \n",
    "invt = fsl.ConvertXFM()\n",
    "invt.inputs.in_file = TP1_base_dir+\"t1_TP1_MNI.mat\"\n",
    "invt.inputs.in_file2 = TP1_base_dir+\"t2_TP1_t1MNI.mat\"\n",
    "invt.inputs.concat_xfm = True\n",
    "invt.inputs.out_file = TP1_base_dir+ \"concat.mat\"\n",
    "invt.cmdline\n",
    "invt.run()"
   ]
  },
  {
   "cell_type": "code",
   "execution_count": 81,
   "metadata": {},
   "outputs": [
    {
     "name": "stdout",
     "output_type": "stream",
     "text": [
      "flirt -in /data/henry7/PBR/subjects/mse1827/nii/ms1049-mse1827-003-FRFSE-001.nii.gz -ref /data/henry7/PBR/subjects/mse1827/nii/t1_TP1_MNI.nii.gz -out /data/henry7/PBR/subjects/mse1827/nii/t2TP1_t1TP1MNI.nii.gz -omat ms1049-mse1827-003-FRFSE-001_flirt.mat -init /data/henry7/PBR/subjects/mse1827/nii/concat.mat -interp nearestneighbour\n"
     ]
    },
    {
     "data": {
      "text/plain": [
       "<nipype.interfaces.base.InterfaceResult at 0x7f283521d9e8>"
      ]
     },
     "execution_count": 81,
     "metadata": {},
     "output_type": "execute_result"
    }
   ],
   "source": [
    "flt = fsl.FLIRT()\n",
    "flt.inputs.interp = \"nearestneighbour\"\n",
    "flt.inputs.in_file = t2_TP1\n",
    "flt.inputs.reference = TP1_base_dir+\"t1_TP1_MNI.nii.gz\"\n",
    "flt.inputs.output_type = \"NIFTI_GZ\"\n",
    "flt.inputs.apply_xfm \n",
    "flt.inputs.in_matrix_file = TP1_base_dir+ \"concat.mat\"\n",
    "flt.inputs.out_file = TP1_base_dir + \"t2TP1_t1TP1MNI.nii.gz\"\n",
    "print(flt.cmdline)\n",
    "flt.run() \n",
    "                        "
   ]
  },
  {
   "cell_type": "code",
   "execution_count": null,
   "metadata": {
    "collapsed": true
   },
   "outputs": [],
   "source": []
  },
  {
   "cell_type": "code",
   "execution_count": 56,
   "metadata": {},
   "outputs": [
    {
     "name": "stdout",
     "output_type": "stream",
     "text": [
      "flirt -in /data/henry7/PBR/subjects/mse1828/nii/ms1049-mse1828-005-FRFSE-000.nii.gz -ref /data/henry7/PBR/subjects/mse1828/nii/ms1049-mse1828-003-AX_T1_3D_IRSPGR.nii.gz -out /data/henry7/PBR/subjects/mse1827/nii/t2TP1_t1TP2.mat -omat /data/henry7/PBR/subjects/mse1828/nii/t2TP1_t1TP2.mat -dof 6\n"
     ]
    },
    {
     "ename": "TraitError",
     "evalue": "The trait 'out_file' of a FLIRTOutputSpec instance is an existing file name, but the path  '/data/henry7/PBR/subjects/mse1827/nii/t2TP1_t1TP2.mat' does not exist.\nInterface FLIRT failed to run. ",
     "output_type": "error",
     "traceback": [
      "\u001b[0;31m---------------------------------------------------------------------------\u001b[0m",
      "\u001b[0;31mTraitError\u001b[0m                                Traceback (most recent call last)",
      "\u001b[0;32m<ipython-input-56-74fd566c10e1>\u001b[0m in \u001b[0;36m<module>\u001b[0;34m()\u001b[0m\n\u001b[1;32m      8\u001b[0m \u001b[0mflt\u001b[0m\u001b[0;34m.\u001b[0m\u001b[0minputs\u001b[0m\u001b[0;34m.\u001b[0m\u001b[0mout_file\u001b[0m \u001b[0;34m=\u001b[0m \u001b[0mTP1_base_dir\u001b[0m\u001b[0;34m+\u001b[0m\u001b[0;34m\"t2TP1_t1TP2.mat\"\u001b[0m\u001b[0;34m\u001b[0m\u001b[0m\n\u001b[1;32m      9\u001b[0m \u001b[0mprint\u001b[0m\u001b[0;34m(\u001b[0m\u001b[0mflt\u001b[0m\u001b[0;34m.\u001b[0m\u001b[0mcmdline\u001b[0m\u001b[0;34m)\u001b[0m\u001b[0;34m\u001b[0m\u001b[0m\n\u001b[0;32m---> 10\u001b[0;31m \u001b[0mflt\u001b[0m\u001b[0;34m.\u001b[0m\u001b[0mrun\u001b[0m\u001b[0;34m(\u001b[0m\u001b[0;34m)\u001b[0m\u001b[0;34m\u001b[0m\u001b[0m\n\u001b[0m",
      "\u001b[0;32m~/ginas_anaconda3.6/new/envs/gk3/lib/python3.5/site-packages/nipype/interfaces/base.py\u001b[0m in \u001b[0;36mrun\u001b[0;34m(self, **inputs)\u001b[0m\n\u001b[1;32m   1080\u001b[0m         \u001b[0;32mtry\u001b[0m\u001b[0;34m:\u001b[0m\u001b[0;34m\u001b[0m\u001b[0m\n\u001b[1;32m   1081\u001b[0m             \u001b[0mruntime\u001b[0m \u001b[0;34m=\u001b[0m \u001b[0mself\u001b[0m\u001b[0;34m.\u001b[0m\u001b[0m_run_wrapper\u001b[0m\u001b[0;34m(\u001b[0m\u001b[0mruntime\u001b[0m\u001b[0;34m)\u001b[0m\u001b[0;34m\u001b[0m\u001b[0m\n\u001b[0;32m-> 1082\u001b[0;31m             \u001b[0moutputs\u001b[0m \u001b[0;34m=\u001b[0m \u001b[0mself\u001b[0m\u001b[0;34m.\u001b[0m\u001b[0maggregate_outputs\u001b[0m\u001b[0;34m(\u001b[0m\u001b[0mruntime\u001b[0m\u001b[0;34m)\u001b[0m\u001b[0;34m\u001b[0m\u001b[0m\n\u001b[0m\u001b[1;32m   1083\u001b[0m             \u001b[0mruntime\u001b[0m\u001b[0;34m.\u001b[0m\u001b[0mendTime\u001b[0m \u001b[0;34m=\u001b[0m \u001b[0mdt\u001b[0m\u001b[0;34m.\u001b[0m\u001b[0misoformat\u001b[0m\u001b[0;34m(\u001b[0m\u001b[0mdt\u001b[0m\u001b[0;34m.\u001b[0m\u001b[0mutcnow\u001b[0m\u001b[0;34m(\u001b[0m\u001b[0;34m)\u001b[0m\u001b[0;34m)\u001b[0m\u001b[0;34m\u001b[0m\u001b[0m\n\u001b[1;32m   1084\u001b[0m             \u001b[0mtimediff\u001b[0m \u001b[0;34m=\u001b[0m \u001b[0mparseutc\u001b[0m\u001b[0;34m(\u001b[0m\u001b[0mruntime\u001b[0m\u001b[0;34m.\u001b[0m\u001b[0mendTime\u001b[0m\u001b[0;34m)\u001b[0m \u001b[0;34m-\u001b[0m \u001b[0mparseutc\u001b[0m\u001b[0;34m(\u001b[0m\u001b[0mruntime\u001b[0m\u001b[0;34m.\u001b[0m\u001b[0mstartTime\u001b[0m\u001b[0;34m)\u001b[0m\u001b[0;34m\u001b[0m\u001b[0m\n",
      "\u001b[0;32m~/ginas_anaconda3.6/new/envs/gk3/lib/python3.5/site-packages/nipype/interfaces/fsl/preprocess.py\u001b[0m in \u001b[0;36maggregate_outputs\u001b[0;34m(self, runtime, needed_outputs)\u001b[0m\n\u001b[1;32m    553\u001b[0m     \u001b[0;32mdef\u001b[0m \u001b[0maggregate_outputs\u001b[0m\u001b[0;34m(\u001b[0m\u001b[0mself\u001b[0m\u001b[0;34m,\u001b[0m \u001b[0mruntime\u001b[0m\u001b[0;34m=\u001b[0m\u001b[0;32mNone\u001b[0m\u001b[0;34m,\u001b[0m \u001b[0mneeded_outputs\u001b[0m\u001b[0;34m=\u001b[0m\u001b[0;32mNone\u001b[0m\u001b[0;34m)\u001b[0m\u001b[0;34m:\u001b[0m\u001b[0;34m\u001b[0m\u001b[0m\n\u001b[1;32m    554\u001b[0m         outputs = super(FLIRT, self).aggregate_outputs(\n\u001b[0;32m--> 555\u001b[0;31m             runtime=runtime, needed_outputs=needed_outputs)\n\u001b[0m\u001b[1;32m    556\u001b[0m         \u001b[0;32mif\u001b[0m \u001b[0misdefined\u001b[0m\u001b[0;34m(\u001b[0m\u001b[0mself\u001b[0m\u001b[0;34m.\u001b[0m\u001b[0minputs\u001b[0m\u001b[0;34m.\u001b[0m\u001b[0msave_log\u001b[0m\u001b[0;34m)\u001b[0m \u001b[0;32mand\u001b[0m \u001b[0mself\u001b[0m\u001b[0;34m.\u001b[0m\u001b[0minputs\u001b[0m\u001b[0;34m.\u001b[0m\u001b[0msave_log\u001b[0m\u001b[0;34m:\u001b[0m\u001b[0;34m\u001b[0m\u001b[0m\n\u001b[1;32m    557\u001b[0m             \u001b[0;32mwith\u001b[0m \u001b[0mopen\u001b[0m\u001b[0;34m(\u001b[0m\u001b[0moutputs\u001b[0m\u001b[0;34m.\u001b[0m\u001b[0mout_log\u001b[0m\u001b[0;34m,\u001b[0m \u001b[0;34m\"a\"\u001b[0m\u001b[0;34m)\u001b[0m \u001b[0;32mas\u001b[0m \u001b[0mtext_file\u001b[0m\u001b[0;34m:\u001b[0m\u001b[0;34m\u001b[0m\u001b[0m\n",
      "\u001b[0;32m~/ginas_anaconda3.6/new/envs/gk3/lib/python3.5/site-packages/nipype/interfaces/base.py\u001b[0m in \u001b[0;36maggregate_outputs\u001b[0;34m(self, runtime, needed_outputs)\u001b[0m\n\u001b[1;32m   1176\u001b[0m                         \u001b[0;32mraise\u001b[0m \u001b[0mFileNotFoundError\u001b[0m\u001b[0;34m(\u001b[0m\u001b[0mmsg\u001b[0m\u001b[0;34m)\u001b[0m\u001b[0;34m\u001b[0m\u001b[0m\n\u001b[1;32m   1177\u001b[0m                     \u001b[0;32melse\u001b[0m\u001b[0;34m:\u001b[0m\u001b[0;34m\u001b[0m\u001b[0m\n\u001b[0;32m-> 1178\u001b[0;31m                         \u001b[0;32mraise\u001b[0m \u001b[0merror\u001b[0m\u001b[0;34m\u001b[0m\u001b[0m\n\u001b[0m\u001b[1;32m   1179\u001b[0m         \u001b[0;32mreturn\u001b[0m \u001b[0moutputs\u001b[0m\u001b[0;34m\u001b[0m\u001b[0m\n\u001b[1;32m   1180\u001b[0m \u001b[0;34m\u001b[0m\u001b[0m\n",
      "\u001b[0;32m~/ginas_anaconda3.6/new/envs/gk3/lib/python3.5/site-packages/nipype/interfaces/base.py\u001b[0m in \u001b[0;36maggregate_outputs\u001b[0;34m(self, runtime, needed_outputs)\u001b[0m\n\u001b[1;32m   1167\u001b[0m                                                       self.__class__.__name__))\n\u001b[1;32m   1168\u001b[0m                 \u001b[0;32mtry\u001b[0m\u001b[0;34m:\u001b[0m\u001b[0;34m\u001b[0m\u001b[0m\n\u001b[0;32m-> 1169\u001b[0;31m                     \u001b[0msetattr\u001b[0m\u001b[0;34m(\u001b[0m\u001b[0moutputs\u001b[0m\u001b[0;34m,\u001b[0m \u001b[0mkey\u001b[0m\u001b[0;34m,\u001b[0m \u001b[0mval\u001b[0m\u001b[0;34m)\u001b[0m\u001b[0;34m\u001b[0m\u001b[0m\n\u001b[0m\u001b[1;32m   1170\u001b[0m                     \u001b[0m_\u001b[0m \u001b[0;34m=\u001b[0m \u001b[0mgetattr\u001b[0m\u001b[0;34m(\u001b[0m\u001b[0moutputs\u001b[0m\u001b[0;34m,\u001b[0m \u001b[0mkey\u001b[0m\u001b[0;34m)\u001b[0m\u001b[0;34m\u001b[0m\u001b[0m\n\u001b[1;32m   1171\u001b[0m                 \u001b[0;32mexcept\u001b[0m \u001b[0mTraitError\u001b[0m \u001b[0;32mas\u001b[0m \u001b[0merror\u001b[0m\u001b[0;34m:\u001b[0m\u001b[0;34m\u001b[0m\u001b[0m\n",
      "\u001b[0;32m~/ginas_anaconda3.6/new/envs/gk3/lib/python3.5/site-packages/nipype/interfaces/traits_extension.py\u001b[0m in \u001b[0;36mvalidate\u001b[0;34m(self, object, name, value)\u001b[0m\n\u001b[1;32m     90\u001b[0m                 \u001b[0margs\u001b[0m\u001b[0;34m=\u001b[0m\u001b[0;34m'The trait \\'{}\\' of {} instance is {}, but the path '\u001b[0m\u001b[0;34m\u001b[0m\u001b[0m\n\u001b[1;32m     91\u001b[0m                      ' \\'{}\\' does not exist.'.format(name, class_of(object),\n\u001b[0;32m---> 92\u001b[0;31m                                                       self.info_text, value))\n\u001b[0m\u001b[1;32m     93\u001b[0m \u001b[0;34m\u001b[0m\u001b[0m\n\u001b[1;32m     94\u001b[0m         \u001b[0mself\u001b[0m\u001b[0;34m.\u001b[0m\u001b[0merror\u001b[0m\u001b[0;34m(\u001b[0m\u001b[0mobject\u001b[0m\u001b[0;34m,\u001b[0m \u001b[0mname\u001b[0m\u001b[0;34m,\u001b[0m \u001b[0mvalue\u001b[0m\u001b[0;34m)\u001b[0m\u001b[0;34m\u001b[0m\u001b[0m\n",
      "\u001b[0;31mTraitError\u001b[0m: The trait 'out_file' of a FLIRTOutputSpec instance is an existing file name, but the path  '/data/henry7/PBR/subjects/mse1827/nii/t2TP1_t1TP2.mat' does not exist.\nInterface FLIRT failed to run. "
     ]
    }
   ],
   "source": [
    "# register T2 tp2 tp T1 tp2 space \n",
    "flt = fsl.FLIRT()\n",
    "flt.inputs.dof = 6\n",
    "flt.inputs.in_file = t2_TP2\n",
    "flt.inputs.reference = t1_TP2\n",
    "flt.inputs.output_type = \"NIFTI_GZ\"\n",
    "flt.inputs.out_matrix_file = TP2_base_dir+\"t2TP1_t1TP2.mat\"\n",
    "flt.inputs.out_file = TP1_base_dir+\"t2TP1_t1TP2.mat\"\n",
    "print(flt.cmdline)\n",
    "flt.run() "
   ]
  },
  {
   "cell_type": "code",
   "execution_count": null,
   "metadata": {
    "collapsed": true
   },
   "outputs": [],
   "source": [
    "flt = fsl.FLIRT()\n",
    "flt.inputs.interp = \"nearestneighbour\"\n",
    "flt.inputs.in_file = t1_TP1 \n",
    "flt.inputs.reference = mni_template\n",
    "flt.inputs.output_type = \"NIFTI_GZ\"\n",
    "flt.inputs.apply_xfm \n",
    "flt.inputs.in_matrix_file = TP1_base_dir + \"t1_TP1_MNI.mat\"\n",
    "flt.inputs.out_file = TP1_base_dir + \"t1TP1MNI.nii.gz\"\n",
    "print(flt.cmdline)\n",
    "flt.run() \n",
    "           "
   ]
  }
 ],
 "metadata": {
  "kernelspec": {
   "display_name": "Python 3",
   "language": "python",
   "name": "python3"
  },
  "language_info": {
   "codemirror_mode": {
    "name": "ipython",
    "version": 3
   },
   "file_extension": ".py",
   "mimetype": "text/x-python",
   "name": "python",
   "nbconvert_exporter": "python",
   "pygments_lexer": "ipython3",
   "version": "3.5.2"
  }
 },
 "nbformat": 4,
 "nbformat_minor": 2
}
